{
 "cells": [
  {
   "cell_type": "markdown",
   "metadata": {},
   "source": [
    "## Import Libraries"
   ]
  },
  {
   "cell_type": "code",
   "execution_count": 1,
   "metadata": {},
   "outputs": [],
   "source": [
    "import numpy as np\n",
    "import torch\n",
    "import torch.nn as nn\n",
    "import torch.optim as optim\n",
    "import torch.utils.data as data\n",
    "import time\n",
    "import copy"
   ]
  },
  {
   "cell_type": "markdown",
   "metadata": {},
   "source": [
    "## EDA"
   ]
  },
  {
   "cell_type": "code",
   "execution_count": 2,
   "metadata": {},
   "outputs": [
    {
     "name": "stdout",
     "output_type": "stream",
     "text": [
      "First Citizen:\n",
      "Before we proceed any further, hear\n",
      "Total number of characters:  5000 and number of unique characters: 53\n",
      "Unique characters are:  \n",
      " !',-.:;?ABCDEFHILMNORSTUVWYabcdefghijklmnoprstuvwyz\n"
     ]
    }
   ],
   "source": [
    "filepath='/Users/vedanttripathi/Documents/20CSCE5218/Project/Data/input.txt'\n",
    "raw_data = open(filepath,'r', encoding='utf-8').read()\n",
    "print(raw_data[:50])\n",
    "raw_data=raw_data[:5000]\n",
    "chars = sorted(list(set(raw_data)))\n",
    "n_chars, unique_chars = len(raw_data), len(chars)\n",
    "print ('Total number of characters: ',n_chars,'and number of unique characters:',unique_chars) \n",
    "print('Unique characters are: ',''.join(chars))"
   ]
  },
  {
   "cell_type": "markdown",
   "metadata": {},
   "source": [
    "## Data Preprocessing"
   ]
  },
  {
   "cell_type": "code",
   "execution_count": 3,
   "metadata": {},
   "outputs": [],
   "source": [
    "chars_to_idx = { ch:i for i,ch in enumerate(chars) } #char_to_int = dict((c, i) for i, c in enumerate(chars))\n",
    "idx_to_chars = { i:ch for i,ch in enumerate(chars) } \n",
    "#type(idx_to_chars)"
   ]
  },
  {
   "cell_type": "markdown",
   "metadata": {},
   "source": [
    "### Deciding Sequence Length"
   ]
  },
  {
   "cell_type": "code",
   "execution_count": 4,
   "metadata": {},
   "outputs": [
    {
     "name": "stdout",
     "output_type": "stream",
     "text": [
      "Number of cahracters in a long sentence 59\n",
      "Number of cahracters in a verse 87\n"
     ]
    }
   ],
   "source": [
    "# Picking a long sentence from the first few sentences to decide Sequence length\n",
    "line = 'First, you know Caius Marcius is chief enemy to the people.'\n",
    "print('Number of cahracters in a long sentence', len(line))\n",
    "\n",
    "# Since we are dealing with verses we choose one to determnine its length\n",
    "verse = '''\n",
    "First Citizen:\n",
    "Let us kill him, and we'll have corn at our own price.\n",
    "Is't a verdict?\n",
    "'''\n",
    "print('Number of cahracters in a verse', len(verse))\n",
    "\n",
    "seq_len = 120 # we take the context length to be roughly two sentences long and greater than verse length "
   ]
  },
  {
   "cell_type": "markdown",
   "metadata": {},
   "source": [
    "### Input, output encoding as integers"
   ]
  },
  {
   "cell_type": "code",
   "execution_count": 5,
   "metadata": {},
   "outputs": [
    {
     "name": "stdout",
     "output_type": "stream",
     "text": [
      "Total Patterns or number of elements in list dataX: 4880\n",
      "dataX[0]: [15, 37, 45, 46, 47, 1, 12, 37, 47, 37, 52, 33, 42, 7, 0, 11, 33, 34, 43, 45, 33, 1, 50, 33, 1, 44, 45, 43, 31, 33, 33, 32, 1, 29, 42, 51, 1, 34, 48, 45, 47, 36, 33, 45, 4, 1, 36, 33, 29, 45, 1, 41, 33, 1, 46, 44, 33, 29, 39, 6, 0, 0, 10, 40, 40, 7, 0, 23, 44, 33, 29, 39, 4, 1, 46, 44, 33, 29, 39, 6, 0, 0, 15, 37, 45, 46, 47, 1, 12, 37, 47, 37, 52, 33, 42, 7, 0, 28, 43, 48, 1, 29, 45, 33, 1, 29, 40, 40, 1, 45, 33, 46, 43, 40, 49, 33, 32, 1, 45, 29]\n",
      "Length of every element of dataX: 120\n",
      "dataY[0]: 47\n"
     ]
    }
   ],
   "source": [
    "dataX = []\n",
    "dataY = []\n",
    "for i in range(0, n_chars - seq_len, 1):\n",
    "    seq_in = raw_data[i:i + seq_len]\n",
    "    seq_out = raw_data[i + seq_len]\n",
    "    dataX.append([chars_to_idx[char] for char in seq_in])\n",
    "    dataY.append(chars_to_idx[seq_out])\n",
    "n_patterns = len(dataX)\n",
    "print('Total Patterns or number of elements in list dataX:', n_patterns)\n",
    "print('dataX[0]:', dataX[0])\n",
    "print('Length of every element of dataX:' ,len(dataX[0]))\n",
    "print('dataY[0]:', dataY[0])"
   ]
  },
  {
   "cell_type": "markdown",
   "metadata": {},
   "source": [
    "### Reshape Input Output"
   ]
  },
  {
   "cell_type": "code",
   "execution_count": 6,
   "metadata": {},
   "outputs": [
    {
     "name": "stdout",
     "output_type": "stream",
     "text": [
      "X[0]: tensor([[0.2830],\n",
      "        [0.6981],\n",
      "        [0.8491],\n",
      "        [0.8679],\n",
      "        [0.8868],\n",
      "        [0.0189],\n",
      "        [0.2264],\n",
      "        [0.6981],\n",
      "        [0.8868],\n",
      "        [0.6981],\n",
      "        [0.9811],\n",
      "        [0.6226],\n",
      "        [0.7925],\n",
      "        [0.1321],\n",
      "        [0.0000],\n",
      "        [0.2075],\n",
      "        [0.6226],\n",
      "        [0.6415],\n",
      "        [0.8113],\n",
      "        [0.8491],\n",
      "        [0.6226],\n",
      "        [0.0189],\n",
      "        [0.9434],\n",
      "        [0.6226],\n",
      "        [0.0189],\n",
      "        [0.8302],\n",
      "        [0.8491],\n",
      "        [0.8113],\n",
      "        [0.5849],\n",
      "        [0.6226],\n",
      "        [0.6226],\n",
      "        [0.6038],\n",
      "        [0.0189],\n",
      "        [0.5472],\n",
      "        [0.7925],\n",
      "        [0.9623],\n",
      "        [0.0189],\n",
      "        [0.6415],\n",
      "        [0.9057],\n",
      "        [0.8491],\n",
      "        [0.8868],\n",
      "        [0.6792],\n",
      "        [0.6226],\n",
      "        [0.8491],\n",
      "        [0.0755],\n",
      "        [0.0189],\n",
      "        [0.6792],\n",
      "        [0.6226],\n",
      "        [0.5472],\n",
      "        [0.8491],\n",
      "        [0.0189],\n",
      "        [0.7736],\n",
      "        [0.6226],\n",
      "        [0.0189],\n",
      "        [0.8679],\n",
      "        [0.8302],\n",
      "        [0.6226],\n",
      "        [0.5472],\n",
      "        [0.7358],\n",
      "        [0.1132],\n",
      "        [0.0000],\n",
      "        [0.0000],\n",
      "        [0.1887],\n",
      "        [0.7547],\n",
      "        [0.7547],\n",
      "        [0.1321],\n",
      "        [0.0000],\n",
      "        [0.4340],\n",
      "        [0.8302],\n",
      "        [0.6226],\n",
      "        [0.5472],\n",
      "        [0.7358],\n",
      "        [0.0755],\n",
      "        [0.0189],\n",
      "        [0.8679],\n",
      "        [0.8302],\n",
      "        [0.6226],\n",
      "        [0.5472],\n",
      "        [0.7358],\n",
      "        [0.1132],\n",
      "        [0.0000],\n",
      "        [0.0000],\n",
      "        [0.2830],\n",
      "        [0.6981],\n",
      "        [0.8491],\n",
      "        [0.8679],\n",
      "        [0.8868],\n",
      "        [0.0189],\n",
      "        [0.2264],\n",
      "        [0.6981],\n",
      "        [0.8868],\n",
      "        [0.6981],\n",
      "        [0.9811],\n",
      "        [0.6226],\n",
      "        [0.7925],\n",
      "        [0.1321],\n",
      "        [0.0000],\n",
      "        [0.5283],\n",
      "        [0.8113],\n",
      "        [0.9057],\n",
      "        [0.0189],\n",
      "        [0.5472],\n",
      "        [0.8491],\n",
      "        [0.6226],\n",
      "        [0.0189],\n",
      "        [0.5472],\n",
      "        [0.7547],\n",
      "        [0.7547],\n",
      "        [0.0189],\n",
      "        [0.8491],\n",
      "        [0.6226],\n",
      "        [0.8679],\n",
      "        [0.8113],\n",
      "        [0.7547],\n",
      "        [0.9245],\n",
      "        [0.6226],\n",
      "        [0.6038],\n",
      "        [0.0189],\n",
      "        [0.8491],\n",
      "        [0.5472]])\n",
      "y[0]: tensor(47)\n"
     ]
    }
   ],
   "source": [
    "X = torch.tensor(dataX, dtype=torch.float32).reshape(n_patterns, seq_len, 1)\n",
    "X = X / float(unique_chars)\n",
    "y = torch.tensor(dataY)\n",
    "print('X[0]:', X[0])\n",
    "print('y[0]:', y[0])"
   ]
  },
  {
   "cell_type": "markdown",
   "metadata": {},
   "source": [
    "## Defining a LSTM Model"
   ]
  },
  {
   "cell_type": "code",
   "execution_count": 7,
   "metadata": {},
   "outputs": [],
   "source": [
    "class CharModel(nn.Module):\n",
    "    def __init__(self,unique_chars, input_size, hidden_size, num_layers):\n",
    "        super(CharModel, self).__init__()\n",
    "        self.embedding = nn.Embedding(unique_chars, input_size, padding_idx=0)\n",
    "        self.lstm = nn.LSTM(input_size,hidden_size,num_layers, batch_first=True)\n",
    "        self.dropout = nn.Dropout(0.2)\n",
    "        self.linear = nn.Linear(256, unique_chars)\n",
    "    \n",
    "    def forward(self, x):\n",
    "        x, _ = self.lstm(x)\n",
    "        # take only the last output\n",
    "        x = x[:, -1, :]\n",
    "        # produce output\n",
    "        x = self.linear(self.dropout(x))\n",
    "        return x\n"
   ]
  },
  {
   "cell_type": "markdown",
   "metadata": {},
   "source": [
    "## Defining the Train and Save function"
   ]
  },
  {
   "cell_type": "code",
   "execution_count": 9,
   "metadata": {},
   "outputs": [],
   "source": [
    "def fitt(model, model_name, X_batch, y_batch, optimizer, loss_fn, n_epochs):\n",
    "    lowest_loss = float('inf')  # Initialize with a high value\n",
    "    best_model_params = None  # Store parameters of the best model\n",
    "\n",
    "    for epoch in range(n_epochs):\n",
    "        loss_ep=0.0\n",
    "        losses_ep = []\n",
    "        times_ep=[]\n",
    "        start_time = time.time()\n",
    "        # Train loop\n",
    "        model.train()\n",
    "        for X_batch, y_batch in loader:\n",
    "            optimizer.zero_grad()\n",
    "            y_pred = model(X_batch.to(device))\n",
    "            loss = loss_fn(y_pred, y_batch.to(device))\n",
    "            loss_ep+=loss.item()\n",
    "            loss.backward()\n",
    "            optimizer.step()\n",
    "        # Calculate training time, losses and print for each epoch\n",
    "        end_time = time.time()\n",
    "        time_epoch = end_time - start_time\n",
    "        losses_ep = losses_ep.append(loss_ep)\n",
    "        times_ep=times_ep.append(time_epoch)\n",
    "        print(f'Epoch {epoch+1}/{n_epochs}: Train time: {time_epoch:.2f}seconds, Loss over epoch: {loss_ep:.4f}')\n",
    "        \n",
    "        # Check for lowest loss and save parameters if applicable\n",
    "        if loss_ep < lowest_loss:\n",
    "            lowest_loss = loss_ep\n",
    "            best_model_params = copy.deepcopy(model.state_dict())  # Deep copy for safety\n",
    "    \n",
    "    # Save the best model parameters after all epochs\n",
    "    if best_model_params is not None:\n",
    "        filename=f'{model_name}_best.pth'\n",
    "        torch.save([best_model_params,chars_to_idx], filename)\n",
    "    \n",
    "\n"
   ]
  },
  {
   "cell_type": "markdown",
   "metadata": {},
   "source": [
    "I need to graph the losses per epoch and time per epoch\n",
    "Then I can compare the three models to see how the losses and time per epoch change for them."
   ]
  },
  {
   "cell_type": "markdown",
   "metadata": {},
   "source": [
    "## Defining the Text Generating function"
   ]
  },
  {
   "cell_type": "code",
   "execution_count": 10,
   "metadata": {},
   "outputs": [],
   "source": [
    "def generate_text(raw_data, unique_chars, seq_len, model):\n",
    "    model.eval()\n",
    "    start = np.random.randint(0, len(raw_data)-seq_len)\n",
    "    prompt = raw_data[start:start+seq_len]\n",
    "    print(f'Prompt: \\n \"{prompt}\"')\n",
    "    print()\n",
    "    pattern = [chars_to_idx[c] for c in prompt]\n",
    "\n",
    "    with torch.no_grad():\n",
    "        for i in range(1000):\n",
    "            # format input array of int into PyTorch tensor\n",
    "            x = np.reshape(pattern, (1, len(pattern), 1)) / float(unique_chars)\n",
    "            x = torch.tensor(x, dtype=torch.float32)\n",
    "            # generate logits as output from the model\n",
    "            prediction = model(x.to(device))\n",
    "            # convert logits into one character\n",
    "            index = int(prediction.argmax())\n",
    "            result = idx_to_chars[index]\n",
    "            print(result, end='')\n",
    "            # append the new character into the prompt for the next iteration\n",
    "            pattern.append(index)\n",
    "            pattern = pattern[1:]\n",
    "    print()\n",
    "    print('Done.')\n"
   ]
  },
  {
   "cell_type": "markdown",
   "metadata": {},
   "source": [
    "## Parameters common to all models"
   ]
  },
  {
   "cell_type": "code",
   "execution_count": 11,
   "metadata": {},
   "outputs": [],
   "source": [
    "unique_chars=unique_chars\n",
    "input_size=1\n",
    "hidden_size=256\n",
    "\n",
    "n_epochs = 2\n",
    "batch_size = 128\n",
    "lr=.01"
   ]
  },
  {
   "cell_type": "code",
   "execution_count": 12,
   "metadata": {},
   "outputs": [],
   "source": [
    "device = torch.device('cuda:0' if torch.cuda.is_available() else 'cpu')\n",
    "\n",
    "loss_fn = nn.CrossEntropyLoss(reduction='sum')\n",
    "loader = data.DataLoader(data.TensorDataset(X, y), shuffle=True, batch_size=batch_size)"
   ]
  },
  {
   "cell_type": "markdown",
   "metadata": {},
   "source": [
    "## Small Model named model_0"
   ]
  },
  {
   "cell_type": "markdown",
   "metadata": {},
   "source": [
    "### Number of LSTM layers"
   ]
  },
  {
   "cell_type": "code",
   "execution_count": 13,
   "metadata": {},
   "outputs": [],
   "source": [
    "num_layers=1"
   ]
  },
  {
   "cell_type": "markdown",
   "metadata": {},
   "source": [
    "### Instantiating the Model"
   ]
  },
  {
   "cell_type": "code",
   "execution_count": 14,
   "metadata": {},
   "outputs": [
    {
     "data": {
      "text/plain": [
       "CharModel(\n",
       "  (embedding): Embedding(53, 1, padding_idx=0)\n",
       "  (lstm): LSTM(1, 256, batch_first=True)\n",
       "  (dropout): Dropout(p=0.2, inplace=False)\n",
       "  (linear): Linear(in_features=256, out_features=53, bias=True)\n",
       ")"
      ]
     },
     "execution_count": 14,
     "metadata": {},
     "output_type": "execute_result"
    }
   ],
   "source": [
    "model_0=CharModel(unique_chars,input_size,hidden_size,num_layers)\n",
    "\n",
    "optimizer = optim.Adam(model_0.parameters(),lr=lr)\n",
    "\n",
    "model_0.to(device)"
   ]
  },
  {
   "cell_type": "markdown",
   "metadata": {},
   "source": [
    "### Training Small Model"
   ]
  },
  {
   "cell_type": "code",
   "execution_count": 15,
   "metadata": {},
   "outputs": [
    {
     "name": "stdout",
     "output_type": "stream",
     "text": [
      "Epoch 1/2: Train time: 69.16seconds, Loss over epoch: 16282.3426\n",
      "Epoch 2/2: Train time: 70.79seconds, Loss over epoch: 15678.1654\n"
     ]
    }
   ],
   "source": [
    "fitt(model=model_0, model_name='model_0', X_batch=X, y_batch=y, optimizer=optimizer,loss_fn=loss_fn,n_epochs=n_epochs) \n"
   ]
  },
  {
   "cell_type": "markdown",
   "metadata": {},
   "source": [
    "### Generating Text using Small Model"
   ]
  },
  {
   "cell_type": "markdown",
   "metadata": {},
   "source": [
    "#### Reloading Saved Model"
   ]
  },
  {
   "cell_type": "code",
   "execution_count": 16,
   "metadata": {},
   "outputs": [
    {
     "data": {
      "text/plain": [
       "<All keys matched successfully>"
      ]
     },
     "execution_count": 16,
     "metadata": {},
     "output_type": "execute_result"
    }
   ],
   "source": [
    "model_0 = CharModel(unique_chars, input_size, hidden_size, num_layers)\n",
    "\n",
    "best_model_param, chars_to_idx = torch.load('model_0_best.pth')\n",
    "model_0.load_state_dict(best_model_param)"
   ]
  },
  {
   "cell_type": "code",
   "execution_count": 17,
   "metadata": {},
   "outputs": [
    {
     "name": "stdout",
     "output_type": "stream",
     "text": [
      "Prompt: \n",
      " \"ple.\n",
      "\n",
      "All:\n",
      "We know't, we know't.\n",
      "\n",
      "First Citizen:\n",
      "Let us kill him, and we'll have corn at our own price.\n",
      "Is't a verdict?\n",
      "\"\n",
      "\n",
      "                                                                                                                                                                                                                                                                                                                                                                                                                                                                                                                                                                                                                                                                                                                                                                                                                                                                                                                                                                                                                                        \n",
      "Done.\n"
     ]
    }
   ],
   "source": [
    "generate_text(raw_data=raw_data, unique_chars=unique_chars,seq_len=seq_len, model=model_0 )"
   ]
  },
  {
   "cell_type": "markdown",
   "metadata": {},
   "source": [
    "### Checking Structure of Small Model (model_0)"
   ]
  },
  {
   "cell_type": "code",
   "execution_count": 18,
   "metadata": {},
   "outputs": [
    {
     "name": "stdout",
     "output_type": "stream",
     "text": [
      "Parameter Name: embedding.weight\n",
      "Parameter Shape: torch.Size([53, 1])\n",
      "Parameter Name: lstm.weight_ih_l0\n",
      "Parameter Shape: torch.Size([1024, 1])\n",
      "Parameter Name: lstm.weight_hh_l0\n",
      "Parameter Shape: torch.Size([1024, 256])\n",
      "Parameter Name: lstm.bias_ih_l0\n",
      "Parameter Shape: torch.Size([1024])\n",
      "Parameter Name: lstm.bias_hh_l0\n",
      "Parameter Shape: torch.Size([1024])\n",
      "Parameter Name: linear.weight\n",
      "Parameter Shape: torch.Size([53, 256])\n",
      "Parameter Name: linear.bias\n",
      "Parameter Shape: torch.Size([53])\n"
     ]
    }
   ],
   "source": [
    "for name, param in model_0.named_parameters():\n",
    "    print(f\"Parameter Name: {name}\")\n",
    "    print(f\"Parameter Shape: {param.shape}\")"
   ]
  },
  {
   "cell_type": "markdown",
   "metadata": {},
   "source": [
    "### Saving Parameters of Small Model"
   ]
  },
  {
   "cell_type": "code",
   "execution_count": 19,
   "metadata": {},
   "outputs": [],
   "source": [
    "model_0_params = {}\n",
    "for name, param in model_0.named_parameters():\n",
    "    model_0_params[name] = param.data"
   ]
  },
  {
   "cell_type": "markdown",
   "metadata": {},
   "source": [
    "## Large Model named Model_0\n",
    "The only change is on the parameter to nn.LSTM(): you set num_layers=2 instead of 1 to add another LSTM layer. But between the two LSTM layers, you also added a dropout layer through the parameter dropout=0.2. Replacing this model with the previous is all the change you need to make.\n",
    "We call the model Model_0"
   ]
  },
  {
   "cell_type": "markdown",
   "metadata": {},
   "source": [
    "### Number of LSTM layers"
   ]
  },
  {
   "cell_type": "code",
   "execution_count": 20,
   "metadata": {},
   "outputs": [],
   "source": [
    "num_layers=2"
   ]
  },
  {
   "cell_type": "markdown",
   "metadata": {},
   "source": [
    "### Instantiating the Model"
   ]
  },
  {
   "cell_type": "code",
   "execution_count": 21,
   "metadata": {},
   "outputs": [
    {
     "data": {
      "text/plain": [
       "CharModel(\n",
       "  (embedding): Embedding(53, 1, padding_idx=0)\n",
       "  (lstm): LSTM(1, 256, num_layers=2, batch_first=True)\n",
       "  (dropout): Dropout(p=0.2, inplace=False)\n",
       "  (linear): Linear(in_features=256, out_features=53, bias=True)\n",
       ")"
      ]
     },
     "execution_count": 21,
     "metadata": {},
     "output_type": "execute_result"
    }
   ],
   "source": [
    "Model_0 = CharModel(unique_chars, input_size, hidden_size, num_layers)\n",
    "\n",
    "optimizer = optim.Adam(Model_0.parameters(),lr=lr)\n",
    "\n",
    "Model_0.to(device)"
   ]
  },
  {
   "cell_type": "markdown",
   "metadata": {},
   "source": [
    "### Training and Saving Large Model"
   ]
  },
  {
   "cell_type": "code",
   "execution_count": 22,
   "metadata": {},
   "outputs": [
    {
     "name": "stdout",
     "output_type": "stream",
     "text": [
      "Epoch 1/2: Train time: 176.61seconds, Loss over epoch: 16346.9978\n",
      "Epoch 2/2: Train time: 142.82seconds, Loss over epoch: 15800.0993\n"
     ]
    }
   ],
   "source": [
    "fitt(model=Model_0, model_name='Model_0',X_batch=X, y_batch=y, optimizer=optimizer,loss_fn=loss_fn,n_epochs=n_epochs) "
   ]
  },
  {
   "cell_type": "markdown",
   "metadata": {},
   "source": [
    "### Generating Text using Large Model"
   ]
  },
  {
   "cell_type": "markdown",
   "metadata": {},
   "source": [
    "#### Reloading Saved Model"
   ]
  },
  {
   "cell_type": "code",
   "execution_count": 23,
   "metadata": {},
   "outputs": [
    {
     "data": {
      "text/plain": [
       "<All keys matched successfully>"
      ]
     },
     "execution_count": 23,
     "metadata": {},
     "output_type": "execute_result"
    }
   ],
   "source": [
    "Model_0 = CharModel(unique_chars, input_size, hidden_size, num_layers)\n",
    "\n",
    "best_model_param, chars_to_idx = torch.load('Model_0_best.pth')\n",
    "Model_0.load_state_dict(best_model_param)"
   ]
  },
  {
   "cell_type": "code",
   "execution_count": 24,
   "metadata": {},
   "outputs": [
    {
     "name": "stdout",
     "output_type": "stream",
     "text": [
      "Prompt: \n",
      " \"e is a gain to them Let us revenge this with\n",
      "our pikes, ere we become rakes: for the gods know I\n",
      "speak this in hunger fo\"\n",
      "\n",
      "                                                                                                                                                                                                                                                                                                                                                                                                                                                                                                                                                                                                                                                                                                                                                                                                                                                                                                                                                                                                                                        \n",
      "Done.\n"
     ]
    }
   ],
   "source": [
    "generate_text(raw_data=raw_data, unique_chars=unique_chars,seq_len=seq_len, model=Model_0 )"
   ]
  },
  {
   "cell_type": "markdown",
   "metadata": {},
   "source": [
    "### Checking Model Structure of Large Model"
   ]
  },
  {
   "cell_type": "code",
   "execution_count": 25,
   "metadata": {},
   "outputs": [
    {
     "name": "stdout",
     "output_type": "stream",
     "text": [
      "Parameter Name: embedding.weight\n",
      "Parameter Shape: torch.Size([53, 1])\n",
      "Parameter Name: lstm.weight_ih_l0\n",
      "Parameter Shape: torch.Size([1024, 1])\n",
      "Parameter Name: lstm.weight_hh_l0\n",
      "Parameter Shape: torch.Size([1024, 256])\n",
      "Parameter Name: lstm.bias_ih_l0\n",
      "Parameter Shape: torch.Size([1024])\n",
      "Parameter Name: lstm.bias_hh_l0\n",
      "Parameter Shape: torch.Size([1024])\n",
      "Parameter Name: lstm.weight_ih_l1\n",
      "Parameter Shape: torch.Size([1024, 256])\n",
      "Parameter Name: lstm.weight_hh_l1\n",
      "Parameter Shape: torch.Size([1024, 256])\n",
      "Parameter Name: lstm.bias_ih_l1\n",
      "Parameter Shape: torch.Size([1024])\n",
      "Parameter Name: lstm.bias_hh_l1\n",
      "Parameter Shape: torch.Size([1024])\n",
      "Parameter Name: linear.weight\n",
      "Parameter Shape: torch.Size([53, 256])\n",
      "Parameter Name: linear.bias\n",
      "Parameter Shape: torch.Size([53])\n"
     ]
    }
   ],
   "source": [
    "for name, param in Model_0.named_parameters():\n",
    "    print(f\"Parameter Name: {name}\")\n",
    "    print(f\"Parameter Shape: {param.shape}\")"
   ]
  },
  {
   "cell_type": "markdown",
   "metadata": {},
   "source": [
    "## Large Model (Model_1) initialised using weights of Small Model"
   ]
  },
  {
   "cell_type": "markdown",
   "metadata": {},
   "source": [
    "### Instantiating another Instance of the Large Model"
   ]
  },
  {
   "cell_type": "code",
   "execution_count": 26,
   "metadata": {},
   "outputs": [
    {
     "data": {
      "text/plain": [
       "CharModel(\n",
       "  (embedding): Embedding(53, 1, padding_idx=0)\n",
       "  (lstm): LSTM(1, 256, num_layers=2, batch_first=True)\n",
       "  (dropout): Dropout(p=0.2, inplace=False)\n",
       "  (linear): Linear(in_features=256, out_features=53, bias=True)\n",
       ")"
      ]
     },
     "execution_count": 26,
     "metadata": {},
     "output_type": "execute_result"
    }
   ],
   "source": [
    "Model_1 = CharModel(unique_chars, input_size, hidden_size, num_layers)\n",
    "\n",
    "optimizer = optim.Adam(Model_1.parameters(),lr=lr)\n",
    "\n",
    "Model_1.to(device)"
   ]
  },
  {
   "cell_type": "markdown",
   "metadata": {},
   "source": [
    "### Checking Model Structure of Large Model (Model_1)"
   ]
  },
  {
   "cell_type": "code",
   "execution_count": 27,
   "metadata": {},
   "outputs": [
    {
     "name": "stdout",
     "output_type": "stream",
     "text": [
      "Parameter Name: embedding.weight\n",
      "Parameter Shape: torch.Size([53, 1])\n",
      "Parameter Name: lstm.weight_ih_l0\n",
      "Parameter Shape: torch.Size([1024, 1])\n",
      "Parameter Name: lstm.weight_hh_l0\n",
      "Parameter Shape: torch.Size([1024, 256])\n",
      "Parameter Name: lstm.bias_ih_l0\n",
      "Parameter Shape: torch.Size([1024])\n",
      "Parameter Name: lstm.bias_hh_l0\n",
      "Parameter Shape: torch.Size([1024])\n",
      "Parameter Name: lstm.weight_ih_l1\n",
      "Parameter Shape: torch.Size([1024, 256])\n",
      "Parameter Name: lstm.weight_hh_l1\n",
      "Parameter Shape: torch.Size([1024, 256])\n",
      "Parameter Name: lstm.bias_ih_l1\n",
      "Parameter Shape: torch.Size([1024])\n",
      "Parameter Name: lstm.bias_hh_l1\n",
      "Parameter Shape: torch.Size([1024])\n",
      "Parameter Name: linear.weight\n",
      "Parameter Shape: torch.Size([53, 256])\n",
      "Parameter Name: linear.bias\n",
      "Parameter Shape: torch.Size([53])\n"
     ]
    }
   ],
   "source": [
    "for name, param in Model_1.named_parameters():\n",
    "    print(f\"Parameter Name: {name}\")\n",
    "    print(f\"Parameter Shape: {param.shape}\")"
   ]
  },
  {
   "cell_type": "markdown",
   "metadata": {},
   "source": []
  },
  {
   "cell_type": "markdown",
   "metadata": {},
   "source": [
    "### Loading Parameters of Small Model to M_1"
   ]
  },
  {
   "cell_type": "code",
   "execution_count": 28,
   "metadata": {},
   "outputs": [],
   "source": [
    "for name, param in Model_1.named_parameters():\n",
    "    if name in model_0_params:\n",
    "        param.data.copy_(model_0_params[name])"
   ]
  },
  {
   "cell_type": "markdown",
   "metadata": {},
   "source": [
    "### Training and Saving M_1"
   ]
  },
  {
   "cell_type": "code",
   "execution_count": null,
   "metadata": {},
   "outputs": [
    {
     "name": "stdout",
     "output_type": "stream",
     "text": [
      "Epoch 1/2: Train time: 177.86seconds, Loss over epoch: 16042.9848\n"
     ]
    }
   ],
   "source": [
    "fitt(model=Model_1, model_name='Model_1',X_batch=X, y_batch=y, optimizer=optimizer,loss_fn=loss_fn,n_epochs=n_epochs)"
   ]
  },
  {
   "cell_type": "markdown",
   "metadata": {},
   "source": [
    "### Generating Text using M_1"
   ]
  },
  {
   "cell_type": "markdown",
   "metadata": {},
   "source": [
    "#### Reloading Saved Model"
   ]
  },
  {
   "cell_type": "code",
   "execution_count": null,
   "metadata": {},
   "outputs": [
    {
     "data": {
      "text/plain": [
       "<All keys matched successfully>"
      ]
     },
     "execution_count": 40,
     "metadata": {},
     "output_type": "execute_result"
    }
   ],
   "source": [
    "Model_1 = CharModel(unique_chars, input_size, hidden_size, num_layers)\n",
    "\n",
    "best_model_param, chars_to_idx = torch.load('Model_1_best.pth')\n",
    "Model_1.load_state_dict(best_model_param)"
   ]
  },
  {
   "cell_type": "code",
   "execution_count": null,
   "metadata": {},
   "outputs": [
    {
     "name": "stdout",
     "output_type": "stream",
     "text": [
      "Prompt: \n",
      " \" Citizen:\n",
      "First, you know Caius Marcius is chief enemy to the people.\n",
      "\n",
      "All:\n",
      "We know't, we know't.\n",
      "\n",
      "First Citizen:\n",
      "Let us\"\n",
      "\n",
      "  ii   aa   aa   aa   aa   aa   aa   aa   aa   aa   aa   aa   aa   aa   aa   aa   aa   aa   aa   aa   aa   aa   aa   aa   aa   aa   aa   aa   aa   aa   aa   aa   aa   aa   aa   aa   aa   aa   aa   aa   aa   aa   aa   aa   aa   aa   aa   aa   a"
     ]
    },
    {
     "ename": "KeyboardInterrupt",
     "evalue": "",
     "output_type": "error",
     "traceback": [
      "\u001b[0;31m---------------------------------------------------------------------------\u001b[0m",
      "\u001b[0;31mKeyboardInterrupt\u001b[0m                         Traceback (most recent call last)",
      "Cell \u001b[0;32mIn[41], line 1\u001b[0m\n\u001b[0;32m----> 1\u001b[0m generate_text(raw_data\u001b[38;5;241m=\u001b[39mraw_data, unique_chars\u001b[38;5;241m=\u001b[39munique_chars,seq_len\u001b[38;5;241m=\u001b[39mseq_len, model\u001b[38;5;241m=\u001b[39mModel_1 )\n",
      "Cell \u001b[0;32mIn[9], line 15\u001b[0m, in \u001b[0;36mgenerate_text\u001b[0;34m(raw_data, unique_chars, seq_len, model)\u001b[0m\n\u001b[1;32m     13\u001b[0m x \u001b[38;5;241m=\u001b[39m torch\u001b[38;5;241m.\u001b[39mtensor(x, dtype\u001b[38;5;241m=\u001b[39mtorch\u001b[38;5;241m.\u001b[39mfloat32)\n\u001b[1;32m     14\u001b[0m \u001b[38;5;66;03m# generate logits as output from the model\u001b[39;00m\n\u001b[0;32m---> 15\u001b[0m prediction \u001b[38;5;241m=\u001b[39m model(x\u001b[38;5;241m.\u001b[39mto(device))\n\u001b[1;32m     16\u001b[0m \u001b[38;5;66;03m# convert logits into one character\u001b[39;00m\n\u001b[1;32m     17\u001b[0m index \u001b[38;5;241m=\u001b[39m \u001b[38;5;28mint\u001b[39m(prediction\u001b[38;5;241m.\u001b[39margmax())\n",
      "File \u001b[0;32m/opt/anaconda3/lib/python3.12/site-packages/torch/nn/modules/module.py:1532\u001b[0m, in \u001b[0;36mModule._wrapped_call_impl\u001b[0;34m(self, *args, **kwargs)\u001b[0m\n\u001b[1;32m   1530\u001b[0m     \u001b[38;5;28;01mreturn\u001b[39;00m \u001b[38;5;28mself\u001b[39m\u001b[38;5;241m.\u001b[39m_compiled_call_impl(\u001b[38;5;241m*\u001b[39margs, \u001b[38;5;241m*\u001b[39m\u001b[38;5;241m*\u001b[39mkwargs)  \u001b[38;5;66;03m# type: ignore[misc]\u001b[39;00m\n\u001b[1;32m   1531\u001b[0m \u001b[38;5;28;01melse\u001b[39;00m:\n\u001b[0;32m-> 1532\u001b[0m     \u001b[38;5;28;01mreturn\u001b[39;00m \u001b[38;5;28mself\u001b[39m\u001b[38;5;241m.\u001b[39m_call_impl(\u001b[38;5;241m*\u001b[39margs, \u001b[38;5;241m*\u001b[39m\u001b[38;5;241m*\u001b[39mkwargs)\n",
      "File \u001b[0;32m/opt/anaconda3/lib/python3.12/site-packages/torch/nn/modules/module.py:1541\u001b[0m, in \u001b[0;36mModule._call_impl\u001b[0;34m(self, *args, **kwargs)\u001b[0m\n\u001b[1;32m   1536\u001b[0m \u001b[38;5;66;03m# If we don't have any hooks, we want to skip the rest of the logic in\u001b[39;00m\n\u001b[1;32m   1537\u001b[0m \u001b[38;5;66;03m# this function, and just call forward.\u001b[39;00m\n\u001b[1;32m   1538\u001b[0m \u001b[38;5;28;01mif\u001b[39;00m \u001b[38;5;129;01mnot\u001b[39;00m (\u001b[38;5;28mself\u001b[39m\u001b[38;5;241m.\u001b[39m_backward_hooks \u001b[38;5;129;01mor\u001b[39;00m \u001b[38;5;28mself\u001b[39m\u001b[38;5;241m.\u001b[39m_backward_pre_hooks \u001b[38;5;129;01mor\u001b[39;00m \u001b[38;5;28mself\u001b[39m\u001b[38;5;241m.\u001b[39m_forward_hooks \u001b[38;5;129;01mor\u001b[39;00m \u001b[38;5;28mself\u001b[39m\u001b[38;5;241m.\u001b[39m_forward_pre_hooks\n\u001b[1;32m   1539\u001b[0m         \u001b[38;5;129;01mor\u001b[39;00m _global_backward_pre_hooks \u001b[38;5;129;01mor\u001b[39;00m _global_backward_hooks\n\u001b[1;32m   1540\u001b[0m         \u001b[38;5;129;01mor\u001b[39;00m _global_forward_hooks \u001b[38;5;129;01mor\u001b[39;00m _global_forward_pre_hooks):\n\u001b[0;32m-> 1541\u001b[0m     \u001b[38;5;28;01mreturn\u001b[39;00m forward_call(\u001b[38;5;241m*\u001b[39margs, \u001b[38;5;241m*\u001b[39m\u001b[38;5;241m*\u001b[39mkwargs)\n\u001b[1;32m   1543\u001b[0m \u001b[38;5;28;01mtry\u001b[39;00m:\n\u001b[1;32m   1544\u001b[0m     result \u001b[38;5;241m=\u001b[39m \u001b[38;5;28;01mNone\u001b[39;00m\n",
      "Cell \u001b[0;32mIn[7], line 10\u001b[0m, in \u001b[0;36mCharModel.forward\u001b[0;34m(self, x)\u001b[0m\n\u001b[1;32m      9\u001b[0m \u001b[38;5;28;01mdef\u001b[39;00m \u001b[38;5;21mforward\u001b[39m(\u001b[38;5;28mself\u001b[39m, x):\n\u001b[0;32m---> 10\u001b[0m     x, _ \u001b[38;5;241m=\u001b[39m \u001b[38;5;28mself\u001b[39m\u001b[38;5;241m.\u001b[39mlstm(x)\n\u001b[1;32m     11\u001b[0m     \u001b[38;5;66;03m# take only the last output\u001b[39;00m\n\u001b[1;32m     12\u001b[0m     x \u001b[38;5;241m=\u001b[39m x[:, \u001b[38;5;241m-\u001b[39m\u001b[38;5;241m1\u001b[39m, :]\n",
      "File \u001b[0;32m/opt/anaconda3/lib/python3.12/site-packages/torch/nn/modules/module.py:1532\u001b[0m, in \u001b[0;36mModule._wrapped_call_impl\u001b[0;34m(self, *args, **kwargs)\u001b[0m\n\u001b[1;32m   1530\u001b[0m     \u001b[38;5;28;01mreturn\u001b[39;00m \u001b[38;5;28mself\u001b[39m\u001b[38;5;241m.\u001b[39m_compiled_call_impl(\u001b[38;5;241m*\u001b[39margs, \u001b[38;5;241m*\u001b[39m\u001b[38;5;241m*\u001b[39mkwargs)  \u001b[38;5;66;03m# type: ignore[misc]\u001b[39;00m\n\u001b[1;32m   1531\u001b[0m \u001b[38;5;28;01melse\u001b[39;00m:\n\u001b[0;32m-> 1532\u001b[0m     \u001b[38;5;28;01mreturn\u001b[39;00m \u001b[38;5;28mself\u001b[39m\u001b[38;5;241m.\u001b[39m_call_impl(\u001b[38;5;241m*\u001b[39margs, \u001b[38;5;241m*\u001b[39m\u001b[38;5;241m*\u001b[39mkwargs)\n",
      "File \u001b[0;32m/opt/anaconda3/lib/python3.12/site-packages/torch/nn/modules/module.py:1541\u001b[0m, in \u001b[0;36mModule._call_impl\u001b[0;34m(self, *args, **kwargs)\u001b[0m\n\u001b[1;32m   1536\u001b[0m \u001b[38;5;66;03m# If we don't have any hooks, we want to skip the rest of the logic in\u001b[39;00m\n\u001b[1;32m   1537\u001b[0m \u001b[38;5;66;03m# this function, and just call forward.\u001b[39;00m\n\u001b[1;32m   1538\u001b[0m \u001b[38;5;28;01mif\u001b[39;00m \u001b[38;5;129;01mnot\u001b[39;00m (\u001b[38;5;28mself\u001b[39m\u001b[38;5;241m.\u001b[39m_backward_hooks \u001b[38;5;129;01mor\u001b[39;00m \u001b[38;5;28mself\u001b[39m\u001b[38;5;241m.\u001b[39m_backward_pre_hooks \u001b[38;5;129;01mor\u001b[39;00m \u001b[38;5;28mself\u001b[39m\u001b[38;5;241m.\u001b[39m_forward_hooks \u001b[38;5;129;01mor\u001b[39;00m \u001b[38;5;28mself\u001b[39m\u001b[38;5;241m.\u001b[39m_forward_pre_hooks\n\u001b[1;32m   1539\u001b[0m         \u001b[38;5;129;01mor\u001b[39;00m _global_backward_pre_hooks \u001b[38;5;129;01mor\u001b[39;00m _global_backward_hooks\n\u001b[1;32m   1540\u001b[0m         \u001b[38;5;129;01mor\u001b[39;00m _global_forward_hooks \u001b[38;5;129;01mor\u001b[39;00m _global_forward_pre_hooks):\n\u001b[0;32m-> 1541\u001b[0m     \u001b[38;5;28;01mreturn\u001b[39;00m forward_call(\u001b[38;5;241m*\u001b[39margs, \u001b[38;5;241m*\u001b[39m\u001b[38;5;241m*\u001b[39mkwargs)\n\u001b[1;32m   1543\u001b[0m \u001b[38;5;28;01mtry\u001b[39;00m:\n\u001b[1;32m   1544\u001b[0m     result \u001b[38;5;241m=\u001b[39m \u001b[38;5;28;01mNone\u001b[39;00m\n",
      "File \u001b[0;32m/opt/anaconda3/lib/python3.12/site-packages/torch/nn/modules/rnn.py:911\u001b[0m, in \u001b[0;36mLSTM.forward\u001b[0;34m(self, input, hx)\u001b[0m\n\u001b[1;32m    908\u001b[0m         hx \u001b[38;5;241m=\u001b[39m \u001b[38;5;28mself\u001b[39m\u001b[38;5;241m.\u001b[39mpermute_hidden(hx, sorted_indices)\n\u001b[1;32m    910\u001b[0m \u001b[38;5;28;01mif\u001b[39;00m batch_sizes \u001b[38;5;129;01mis\u001b[39;00m \u001b[38;5;28;01mNone\u001b[39;00m:\n\u001b[0;32m--> 911\u001b[0m     result \u001b[38;5;241m=\u001b[39m _VF\u001b[38;5;241m.\u001b[39mlstm(\u001b[38;5;28minput\u001b[39m, hx, \u001b[38;5;28mself\u001b[39m\u001b[38;5;241m.\u001b[39m_flat_weights, \u001b[38;5;28mself\u001b[39m\u001b[38;5;241m.\u001b[39mbias, \u001b[38;5;28mself\u001b[39m\u001b[38;5;241m.\u001b[39mnum_layers,\n\u001b[1;32m    912\u001b[0m                       \u001b[38;5;28mself\u001b[39m\u001b[38;5;241m.\u001b[39mdropout, \u001b[38;5;28mself\u001b[39m\u001b[38;5;241m.\u001b[39mtraining, \u001b[38;5;28mself\u001b[39m\u001b[38;5;241m.\u001b[39mbidirectional, \u001b[38;5;28mself\u001b[39m\u001b[38;5;241m.\u001b[39mbatch_first)\n\u001b[1;32m    913\u001b[0m \u001b[38;5;28;01melse\u001b[39;00m:\n\u001b[1;32m    914\u001b[0m     result \u001b[38;5;241m=\u001b[39m _VF\u001b[38;5;241m.\u001b[39mlstm(\u001b[38;5;28minput\u001b[39m, batch_sizes, hx, \u001b[38;5;28mself\u001b[39m\u001b[38;5;241m.\u001b[39m_flat_weights, \u001b[38;5;28mself\u001b[39m\u001b[38;5;241m.\u001b[39mbias,\n\u001b[1;32m    915\u001b[0m                       \u001b[38;5;28mself\u001b[39m\u001b[38;5;241m.\u001b[39mnum_layers, \u001b[38;5;28mself\u001b[39m\u001b[38;5;241m.\u001b[39mdropout, \u001b[38;5;28mself\u001b[39m\u001b[38;5;241m.\u001b[39mtraining, \u001b[38;5;28mself\u001b[39m\u001b[38;5;241m.\u001b[39mbidirectional)\n",
      "\u001b[0;31mKeyboardInterrupt\u001b[0m: "
     ]
    }
   ],
   "source": [
    "generate_text(raw_data=raw_data, unique_chars=unique_chars,seq_len=seq_len, model=Model_1 )"
   ]
  }
 ],
 "metadata": {
  "kernelspec": {
   "display_name": "base",
   "language": "python",
   "name": "python3"
  },
  "language_info": {
   "codemirror_mode": {
    "name": "ipython",
    "version": 3
   },
   "file_extension": ".py",
   "mimetype": "text/x-python",
   "name": "python",
   "nbconvert_exporter": "python",
   "pygments_lexer": "ipython3",
   "version": "3.12.2"
  }
 },
 "nbformat": 4,
 "nbformat_minor": 2
}
